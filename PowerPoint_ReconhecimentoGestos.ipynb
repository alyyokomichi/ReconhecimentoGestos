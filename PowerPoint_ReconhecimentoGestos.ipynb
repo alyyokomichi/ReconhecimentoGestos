{
 "cells": [
  {
   "cell_type": "code",
   "execution_count": 3,
   "id": "d662bc83",
   "metadata": {},
   "outputs": [],
   "source": [
    "import os\n",
    "import cv2\n",
    "import time\n",
    "import mediapipe as mp\n",
    "from pynput.keyboard import Key, Controller\n",
    "from os import walk\n",
    "from time import sleep"
   ]
  },
  {
   "cell_type": "code",
   "execution_count": 4,
   "id": "fa915930",
   "metadata": {},
   "outputs": [],
   "source": [
    "mp_drawing = mp.solutions.drawing_utils\n",
    "mp_drawing_styles = mp.solutions.drawing_styles\n",
    "mp_hands = mp.solutions.hands\n",
    "model = mp_hands.Hands(static_image_mode=False, max_num_hands=2, min_detection_confidence=0.5)"
   ]
  },
  {
   "cell_type": "code",
   "execution_count": 7,
   "id": "9b23ee11",
   "metadata": {},
   "outputs": [],
   "source": [
    "def Presentation():\n",
    "    cam = cv2.VideoCapture(0)\n",
    "    cam.set(cv2.CAP_PROP_FRAME_WIDTH, 1280)\n",
    "    cam.set(cv2.CAP_PROP_FRAME_HEIGHT, 720)\n",
    "    keyboard = Controller()\n",
    "    while cam.isOpened():\n",
    "        ret, image = cam.read()\n",
    "        if not ret:\n",
    "            print(\"Ignore empty camera frame\")\n",
    "            continue\n",
    "            \n",
    "        results = model.process(cv2.cvtColor(image, cv2.COLOR_BGR2RGB))\n",
    "\n",
    "        if results.multi_hand_landmarks != None:\n",
    "            for hand_landmarks in results.multi_hand_landmarks:\n",
    "                image_height, image_width, _ = image.shape\n",
    "                mp_drawing.draw_landmarks(image, hand_landmarks, mp_hands.HAND_CONNECTIONS,\n",
    "                                          mp_drawing_styles.get_default_hand_landmarks_style(),\n",
    "                                          mp_drawing_styles.get_default_hand_connections_style())\n",
    "                \n",
    "                thumb_s = hand_landmarks.landmark[4].x\n",
    "                index_s = hand_landmarks.landmark[8].y\n",
    "                middle_s = hand_landmarks.landmark[12].y\n",
    "                ring_s = hand_landmarks.landmark[16].y\n",
    "                pinky_s = hand_landmarks.landmark[20].y\n",
    "                \n",
    "                if(results.multi_handedness[0].classification[0].label == 'Left'):\n",
    "                    if(\n",
    "                        thumb_s > hand_landmarks.landmark[3].x and\n",
    "                        index_s < hand_landmarks.landmark[5].y and\n",
    "                        middle_s > hand_landmarks.landmark[9].y and\n",
    "                        ring_s > hand_landmarks.landmark[13].y and\n",
    "                        pinky_s < hand_landmarks.landmark[17].y):\n",
    "                        cv2.putText(image, \"Next\", (500, 500), cv2.FONT_HERSHEY_SIMPLEX, 10, (0, 255, 255), 3)\n",
    "                        keyboard.press(Key.page_down)\n",
    "                        sleep(0.9)\n",
    "                        \n",
    "                    if(\n",
    "                        thumb_s < hand_landmarks.landmark[3].x and\n",
    "                        index_s > hand_landmarks.landmark[5].y and\n",
    "                        middle_s > hand_landmarks.landmark[9].y and\n",
    "                        ring_s > hand_landmarks.landmark[13].y and\n",
    "                        pinky_s < hand_landmarks.landmark[17].y):\n",
    "                        cv2.putText(image, \"Back\", (500, 500), cv2.FONT_HERSHEY_SIMPLEX, 10, (0, 255, 255), 3)\n",
    "                        keyboard.press(Key.page_up)\n",
    "                        sleep(0.9)\n",
    "                    \n",
    "        cv2.imshow('Webcam (Press ESC for exit)', cv2.flip(image, 1))\n",
    "        if cv2.waitKey(int(1000 // cam.get(cv2.CAP_PROP_FPS))) & 0xFF == 27:\n",
    "            #presentation.SlideShowWindow.View.Exit()\n",
    "            break\n",
    "        else:\n",
    "            continue\n",
    "    cv2.destroyAllWindows()\n",
    "    cam.release()"
   ]
  },
  {
   "cell_type": "code",
   "execution_count": 4,
   "id": "0d75d4d1",
   "metadata": {},
   "outputs": [],
   "source": [
    "'''lista = []\n",
    "end = 'C:/Apresentacao'\n",
    "for (dirpath, dirnames, filenames) in walk(end):\n",
    "    lista.extend(filenames)\n",
    "arq_path = 'C:\\\\Apresentacao\\\\'+str(lista[0])\n",
    "Presentation(arq_path)'''"
   ]
  },
  {
   "cell_type": "code",
   "execution_count": 8,
   "id": "a01995fa",
   "metadata": {},
   "outputs": [],
   "source": [
    "Presentation()"
   ]
  },
  {
   "cell_type": "code",
   "execution_count": null,
   "id": "e55cb156",
   "metadata": {},
   "outputs": [],
   "source": []
  }
 ],
 "metadata": {
  "kernelspec": {
   "display_name": "Python 3 (ipykernel)",
   "language": "python",
   "name": "python3"
  },
  "language_info": {
   "codemirror_mode": {
    "name": "ipython",
    "version": 3
   },
   "file_extension": ".py",
   "mimetype": "text/x-python",
   "name": "python",
   "nbconvert_exporter": "python",
   "pygments_lexer": "ipython3",
   "version": "3.9.15"
  }
 },
 "nbformat": 4,
 "nbformat_minor": 5
}
